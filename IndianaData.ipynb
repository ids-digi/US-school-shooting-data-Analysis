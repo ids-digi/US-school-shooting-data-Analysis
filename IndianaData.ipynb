{
 "cells": [
  {
   "cell_type": "code",
   "execution_count": 1,
   "metadata": {},
   "outputs": [
    {
     "name": "stdout",
     "output_type": "stream",
     "text": [
      "           Date            City    State  AreaType School  Fatalities  \\\n",
      "150  10/16/1996  West Lafayette  Indiana  suburban      C           1   \n",
      "239   3/30/2001            Gary  Indiana     urban     HS           1   \n",
      "240   3/30/2001            Gary  Indiana       NaN     HS           1   \n",
      "384  10/21/2008    Indianapolis  Indiana     urban     HS           1   \n",
      "466   3/25/2011    Martinsville  Indiana  suburban     MS           0   \n",
      "467   3/25/2011    Martinsville  Indiana       NaN     MS           0   \n",
      "567   1/21/2014  West Lafayette  Indiana       NaN      C           1   \n",
      "589   9/27/2014     Terre Haute  Indiana       NaN      C           0   \n",
      "619   1/22/2016    Indianapolis  Indiana       NaN     HS           0   \n",
      "660   5/25/2018     Nobelsville  Indiana       NaN     MS           0   \n",
      "667  12/13/2018        Richmond  Indiana       NaN     MS           1   \n",
      "763  11/17/2022         Clinton  Indiana       NaN      C           0   \n",
      "\n",
      "     Wounded  Dupe Source                                               Desc  \\\n",
      "150      NaN   NaN    Pah                                                NaN   \n",
      "239      NaN  True    Pah                                                NaN   \n",
      "240      0.0   NaN   Wikp  17-year-old Donald Ray Burt Jr., fatally shot ...   \n",
      "384      NaN   NaN    Pah                                                NaN   \n",
      "466      NaN  True    Pah                                                NaN   \n",
      "467      1.0   NaN   Wikp  Michael Phelps, a 15-year-old suspended studen...   \n",
      "567      0.0   NaN   Wikp  A 21-year-old student, Andrew Boldt, was kille...   \n",
      "589      1.0   NaN   Wikp  A 20-year-old¬†Indiana State University¬†stude...   \n",
      "619      1.0   NaN   Wikp  A 15-year-old male was shot in the leg and inj...   \n",
      "660      2.0   NaN   Wikp  Noblesville West Middle School shooting: Two p...   \n",
      "667      0.0   NaN   Wikp  A 14-year-old male attempted a shooting on Den...   \n",
      "763      1.0   NaN   Wikp  A sheriff's deputy teaching a vocational law e...   \n",
      "\n",
      "     Unnamed: 10  Unnamed: 11  \n",
      "150          NaN          NaN  \n",
      "239          NaN          NaN  \n",
      "240          NaN          NaN  \n",
      "384          NaN          NaN  \n",
      "466          NaN          NaN  \n",
      "467          NaN          NaN  \n",
      "567          NaN          NaN  \n",
      "589          NaN          NaN  \n",
      "619          NaN          NaN  \n",
      "660          NaN          NaN  \n",
      "667          NaN          NaN  \n",
      "763          NaN          NaN  \n"
     ]
    }
   ],
   "source": [
    "import pandas as pd\n",
    "\n",
    "file_path = r'C:\\Users\\Lenovo\\Desktop\\Data Analysis\\pah_wikp_combo.csv'\n",
    "\n",
    "# Read the CSV file into a pandas DataFrame\n",
    "data = pd.read_csv(file_path)\n",
    "\n",
    "# Filter the rows for the Indiana state\n",
    "indiana_data = data[data['State'] == 'Indiana']\n",
    "\n",
    "# Print the filtered data\n",
    "print(indiana_data)\n"
   ]
  },
  {
   "cell_type": "code",
   "execution_count": 2,
   "metadata": {},
   "outputs": [
    {
     "name": "stdout",
     "output_type": "stream",
     "text": [
      "Correlation between Year and Increase in Incidents for Indiana Data: -0.05958806499027283\n"
     ]
    },
    {
     "name": "stderr",
     "output_type": "stream",
     "text": [
      "C:\\Users\\Lenovo\\AppData\\Local\\Temp\\ipykernel_5360\\3306439205.py:2: SettingWithCopyWarning: \n",
      "A value is trying to be set on a copy of a slice from a DataFrame.\n",
      "Try using .loc[row_indexer,col_indexer] = value instead\n",
      "\n",
      "See the caveats in the documentation: https://pandas.pydata.org/pandas-docs/stable/user_guide/indexing.html#returning-a-view-versus-a-copy\n",
      "  indiana_data['Date'] = pd.to_datetime(indiana_data['Date'])\n"
     ]
    }
   ],
   "source": [
    "\n",
    "# Convert the 'Date' column to pandas DateTime type\n",
    "indiana_data['Date'] = pd.to_datetime(indiana_data['Date'])\n",
    "\n",
    "# Sort the data based on the 'Date' column in ascending order\n",
    "indiana_data = indiana_data.sort_values('Date')\n",
    "\n",
    "# Calculate the increase in incidents\n",
    "indiana_data['Increase'] = indiana_data['Fatalities'].diff()\n",
    "\n",
    "# Calculate the correlation between 'Year' and 'Increase'\n",
    "correlation = indiana_data['Date'].dt.year.corr(indiana_data['Increase'])\n",
    "\n",
    "print(\"Correlation between Year and Increase in Incidents for Indiana Data:\", correlation)"
   ]
  },
  {
   "cell_type": "code",
   "execution_count": 3,
   "metadata": {},
   "outputs": [
    {
     "name": "stderr",
     "output_type": "stream",
     "text": [
      "C:\\Users\\Lenovo\\AppData\\Local\\Temp\\ipykernel_5360\\3589912357.py:13: SettingWithCopyWarning: \n",
      "A value is trying to be set on a copy of a slice from a DataFrame.\n",
      "Try using .loc[row_indexer,col_indexer] = value instead\n",
      "\n",
      "See the caveats in the documentation: https://pandas.pydata.org/pandas-docs/stable/user_guide/indexing.html#returning-a-view-versus-a-copy\n",
      "  indiana_data['Date'] = pd.to_datetime(indiana_data['Date'])\n"
     ]
    },
    {
     "data": {
      "image/png": "[encoded data removed]",
      "text/plain": [
       "<Figure size 640x480 with 1 Axes>"
      ]
     },
     "metadata": {},
     "output_type": "display_data"
    }
   ],
   "source": [
    "import pandas as pd\n",
    "import matplotlib.pyplot as plt\n",
    "\n",
    "file_path = r'C:\\Users\\Lenovo\\Desktop\\Data Analysis\\pah_wikp_combo.csv'\n",
    "\n",
    "# Read the CSV file into a pandas DataFrame\n",
    "data = pd.read_csv(file_path)\n",
    "\n",
    "# Filter the rows for the Indiana state\n",
    "indiana_data = data[data['State'] == 'Indiana']\n",
    "\n",
    "# Convert the 'Date' column to pandas DateTime type\n",
    "indiana_data['Date'] = pd.to_datetime(indiana_data['Date'])\n",
    "\n",
    "# Sort the data based on the 'Date' column in ascending order\n",
    "indiana_data = indiana_data.sort_values('Date')\n",
    "\n",
    "# Calculate the increase in incidents\n",
    "indiana_data['Increase'] = indiana_data['Fatalities'].diff()\n",
    "\n",
    "# Plotting the graph\n",
    "plt.plot(indiana_data['Date'].dt.year, indiana_data['Increase'])\n",
    "plt.xlabel('Year')\n",
    "plt.ylabel('Increase in Incidents')\n",
    "plt.title('Increase in Incidents Over the Years for Indiana')\n",
    "plt.show()\n"
   ]
  },
  {
   "cell_type": "code",
   "execution_count": 10,
   "metadata": {},
   "outputs": [
    {
     "name": "stderr",
     "output_type": "stream",
     "text": [
      "C:\\Users\\Lenovo\\AppData\\Local\\Temp\\ipykernel_5360\\234116299.py:13: SettingWithCopyWarning:\n",
      "\n",
      "\n",
      "A value is trying to be set on a copy of a slice from a DataFrame.\n",
      "Try using .loc[row_indexer,col_indexer] = value instead\n",
      "\n",
      "See the caveats in the documentation: https://pandas.pydata.org/pandas-docs/stable/user_guide/indexing.html#returning-a-view-versus-a-copy\n",
      "\n"
     ]
    },
    {
     "data": {
      "image/png": "[encoded data removed]",
      "text/plain": [
       "<Figure size 640x480 with 1 Axes>"
      ]
     },
     "metadata": {},
     "output_type": "display_data"
    }
   ],
   "source": [
    "import pandas as pd\n",
    "import matplotlib.pyplot as plt\n",
    "\n",
    "file_path = r'C:\\Users\\Lenovo\\Desktop\\Data Analysis\\pah_wikp_combo.csv'\n",
    "\n",
    "# Read the CSV file into a pandas DataFrame\n",
    "data = pd.read_csv(file_path)\n",
    "\n",
    "# Filter the rows for the Indiana state\n",
    "indiana_data = data[data['State'] == 'Indiana']\n",
    "\n",
    "# Convert the 'Date' column to pandas DateTime type\n",
    "indiana_data['Date'] = pd.to_datetime(indiana_data['Date'])\n",
    "\n",
    "# Group by month and calculate the total incidents\n",
    "monthly_incidents = indiana_data.groupby(indiana_data['Date'].dt.month)['Fatalities'].sum()\n",
    "\n",
    "# Reindex to include all months\n",
    "monthly_incidents = monthly_incidents.reindex(range(1, 13), fill_value=0)\n",
    "\n",
    "# Plotting the graph\n",
    "monthly_incidents.plot(kind='bar')\n",
    "plt.xlabel('Month')\n",
    "plt.ylabel('Total Incidents')\n",
    "plt.title('Monthly Incident Trends in Indiana')\n",
    "plt.xticks(rotation=0)\n",
    "plt.show()\n",
    "\n"
   ]
  },
  {
   "cell_type": "code",
   "execution_count": 5,
   "metadata": {},
   "outputs": [
    {
     "data": {
      "image/png": "[encoded data removed]",
      "text/plain": [
       "<Figure size 640x480 with 1 Axes>"
      ]
     },
     "metadata": {},
     "output_type": "display_data"
    }
   ],
   "source": [
    "import pandas as pd\n",
    "import matplotlib.pyplot as plt\n",
    "\n",
    "file_path = r'C:\\Users\\Lenovo\\Desktop\\Data Analysis\\pah_wikp_combo.csv'\n",
    "\n",
    "# Read the CSV file into a pandas DataFrame\n",
    "data = pd.read_csv(file_path)\n",
    "\n",
    "# Filter the rows for the Indiana state\n",
    "indiana_data = data[data['State'] == 'Indiana']\n",
    "\n",
    "# Count the occurrences of each area type\n",
    "area_types = indiana_data['AreaType'].value_counts()\n",
    "\n",
    "# Plotting the graph\n",
    "area_types.plot(kind='bar')\n",
    "plt.xlabel('Area Type')\n",
    "plt.ylabel('Number of Incidents')\n",
    "plt.title('Incidents by Area Type in Indiana')\n",
    "plt.xticks(rotation=0)\n",
    "plt.show()\n"
   ]
  },
  {
   "cell_type": "code",
   "execution_count": 6,
   "metadata": {},
   "outputs": [
    {
     "name": "stderr",
     "output_type": "stream",
     "text": [
      "C:\\Users\\Lenovo\\AppData\\Local\\Temp\\ipykernel_5360\\2470901357.py:13: SettingWithCopyWarning: \n",
      "A value is trying to be set on a copy of a slice from a DataFrame.\n",
      "Try using .loc[row_indexer,col_indexer] = value instead\n",
      "\n",
      "See the caveats in the documentation: https://pandas.pydata.org/pandas-docs/stable/user_guide/indexing.html#returning-a-view-versus-a-copy\n",
      "  indiana_data['Date'] = pd.to_datetime(indiana_data['Date'])\n",
      "C:\\Users\\Lenovo\\AppData\\Local\\Temp\\ipykernel_5360\\2470901357.py:16: SettingWithCopyWarning: \n",
      "A value is trying to be set on a copy of a slice from a DataFrame.\n",
      "Try using .loc[row_indexer,col_indexer] = value instead\n",
      "\n",
      "See the caveats in the documentation: https://pandas.pydata.org/pandas-docs/stable/user_guide/indexing.html#returning-a-view-versus-a-copy\n",
      "  indiana_data['Year'] = indiana_data['Date'].dt.year\n"
     ]
    },
    {
     "data": {
      "image/png": "[encoded data removed]",
      "text/plain": [
       "<Figure size 640x480 with 1 Axes>"
      ]
     },
     "metadata": {},
     "output_type": "display_data"
    }
   ],
   "source": [
    "import pandas as pd\n",
    "import matplotlib.pyplot as plt\n",
    "\n",
    "file_path = r'C:\\Users\\Lenovo\\Desktop\\Data Analysis\\pah_wikp_combo.csv'\n",
    "\n",
    "# Read the CSV file into a pandas DataFrame\n",
    "data = pd.read_csv(file_path)\n",
    "\n",
    "# Filter the rows for the Indiana state\n",
    "indiana_data = data[data['State'] == 'Indiana']\n",
    "\n",
    "# Convert the 'Date' column to pandas DateTime type\n",
    "indiana_data['Date'] = pd.to_datetime(indiana_data['Date'])\n",
    "\n",
    "# Extract the year from the 'Date' column\n",
    "indiana_data['Year'] = indiana_data['Date'].dt.year\n",
    "\n",
    "# Group incidents by year and classification\n",
    "yearly_classification = indiana_data.groupby(['Year', 'School'])['Fatalities'].sum().reset_index()\n",
    "\n",
    "# Pivot the table to have years as columns and incident classifications as rows\n",
    "pivot_table = yearly_classification.pivot(index='School', columns='Year', values='Fatalities')\n",
    "\n",
    "# Plotting the graph\n",
    "pivot_table.plot(kind='bar', stacked=True)\n",
    "plt.xlabel('Incident Classification')\n",
    "plt.ylabel('Total Incidents')\n",
    "plt.title('Year-wise Classification of Incidents in Indiana')\n",
    "plt.xticks(rotation=0)\n",
    "plt.legend(title='Year')\n",
    "plt.show()\n"
   ]
  },
  {
   "cell_type": "code",
   "execution_count": 7,
   "metadata": {},
   "outputs": [
    {
     "name": "stdout",
     "output_type": "stream",
     "text": [
      "Total Incident Count for Indiana: 12\n"
     ]
    }
   ],
   "source": [
    "import pandas as pd\n",
    "\n",
    "file_path = r'C:\\Users\\Lenovo\\Desktop\\Data Analysis\\pah_wikp_combo.csv'\n",
    "\n",
    "# Read the CSV file into a pandas DataFrame\n",
    "data = pd.read_csv(file_path)\n",
    "\n",
    "# Filter the rows for the Indiana state\n",
    "indiana_data = data[data['State'] == 'Indiana']\n",
    "\n",
    "# Calculate the total incident count\n",
    "total_incident_count = indiana_data.shape[0]\n",
    "\n",
    "print(\"Total Incident Count for Indiana:\", total_incident_count)\n"
   ]
  },
  {
   "cell_type": "code",
   "execution_count": 8,
   "metadata": {},
   "outputs": [
    {
     "data": {
      "image/png": "[encoded data removed]",
      "text/plain": [
       "<Figure size 640x480 with 1 Axes>"
      ]
     },
     "metadata": {},
     "output_type": "display_data"
    }
   ],
   "source": [
    "import pandas as pd\n",
    "import matplotlib.pyplot as plt\n",
    "\n",
    "file_path = r'C:\\Users\\Lenovo\\Desktop\\Data Analysis\\pah_wikp_combo.csv'\n",
    "\n",
    "# Read the CSV file into a pandas DataFrame\n",
    "data = pd.read_csv(file_path)\n",
    "\n",
    "# Filter the rows for the Indiana state\n",
    "indiana_data = data[data['State'] == 'Indiana']\n",
    "\n",
    "# Calculate the fatalities count for each incident\n",
    "incident_fatalities = indiana_data['Fatalities'].value_counts()\n",
    "\n",
    "# Sort the data by fatalities count in descending order\n",
    "incident_fatalities = incident_fatalities.sort_values(ascending=False)\n",
    "\n",
    "# Plotting the graph\n",
    "incident_fatalities.plot(kind='bar')\n",
    "plt.xlabel('Fatalities')\n",
    "plt.ylabel('Count')\n",
    "plt.title('Fatalities by Incident in Indiana')\n",
    "plt.xticks(rotation=0)\n",
    "plt.show()\n"
   ]
  },
  {
   "cell_type": "code",
   "execution_count": 9,
   "metadata": {},
   "outputs": [
    {
     "data": {
      "application/vnd.plotly.v1+json": {
       "config": {
        "plotlyServerURL": "https://plot.ly"
       },
       "data": [
        {
         "hovertemplate": "<b>%{hovertext}</b><br><br>City=West Lafayette<br>Fatalities=%{marker.size}<br>Latitude=%{lat}<br>Longitude=%{lon}<extra></extra>",
         "hovertext": [
          "West Lafayette",
          "West Lafayette"
         ],
         "lat": [
          40.4259,
          40.4259
         ],
         "legendgroup": "West Lafayette",
         "lon": [
          -86.9081,
          -86.9081
         ],
         "marker": {
          "color": "#636efa",
          "size": [
           1,
           1
          ],
          "sizemode": "area",
          "sizeref": 0.0025
         },
         "mode": "markers",
         "name": "West Lafayette",
         "showlegend": true,
         "subplot": "mapbox",
         "type": "scattermapbox"
        },
        {
         "hovertemplate": "<b>%{hovertext}</b><br><br>City=Gary<br>Fatalities=%{marker.size}<br>Latitude=%{lat}<br>Longitude=%{lon}<extra></extra>",
         "hovertext": [
          "Gary",
          "Gary"
         ],
         "lat": [
          41.5934,
          41.5934
         ],
         "legendgroup": "Gary",
         "lon": [
          -87.3464,
          -87.3464
         ],
         "marker": {
          "color": "#EF553B",
          "size": [
           1,
           1
          ],
          "sizemode": "area",
          "sizeref": 0.0025
         },
         "mode": "markers",
         "name": "Gary",
         "showlegend": true,
         "subplot": "mapbox",
         "type": "scattermapbox"
        },
        {
         "hovertemplate": "<b>%{hovertext}</b><br><br>City=Indianapolis<br>Fatalities=%{marker.size}<br>Latitude=%{lat}<br>Longitude=%{lon}<extra></extra>",
         "hovertext": [
          "Indianapolis",
          "Indianapolis"
         ],
         "lat": [
          39.7684,
          39.7684
         ],
         "legendgroup": "Indianapolis",
         "lon": [
          -86.1581,
          -86.1581
         ],
         "marker": {
          "color": "#00cc96",
          "size": [
           1,
           0
          ],
          "sizemode": "area",
          "sizeref": 0.0025
         },
         "mode": "markers",
         "name": "Indianapolis",
         "showlegend": true,
         "subplot": "mapbox",
         "type": "scattermapbox"
        },
        {
         "hovertemplate": "<b>%{hovertext}</b><br><br>City=Martinsville<br>Fatalities=%{marker.size}<br>Latitude=%{lat}<br>Longitude=%{lon}<extra></extra>",
         "hovertext": [
          "Martinsville",
          "Martinsville"
         ],
         "lat": [
          39.4279,
          39.4279
         ],
         "legendgroup": "Martinsville",
         "lon": [
          -86.4282,
          -86.4282
         ],
         "marker": {
          "color": "#ab63fa",
          "size": [
           0,
           0
          ],
          "sizemode": "area",
          "sizeref": 0.0025
         },
         "mode": "markers",
         "name": "Martinsville",
         "showlegend": true,
         "subplot": "mapbox",
         "type": "scattermapbox"
        },
        {
         "hovertemplate": "<b>%{hovertext}</b><br><br>City=Terre Haute<br>Fatalities=%{marker.size}<br>Latitude=%{lat}<br>Longitude=%{lon}<extra></extra>",
         "hovertext": [
          "Terre Haute"
         ],
         "lat": [
          39.4667
         ],
         "legendgroup": "Terre Haute",
         "lon": [
          -87.4139
         ],
         "marker": {
          "color": "#FFA15A",
          "size": [
           0
          ],
          "sizemode": "area",
          "sizeref": 0.0025
         },
         "mode": "markers",
         "name": "Terre Haute",
         "showlegend": true,
         "subplot": "mapbox",
         "type": "scattermapbox"
        },
        {
         "hovertemplate": "<b>%{hovertext}</b><br><br>City=Nobelsville<br>Fatalities=%{marker.size}<br>Latitude=%{lat}<br>Longitude=%{lon}<extra></extra>",
         "hovertext": [
          "Nobelsville"
         ],
         "lat": [
          40.0456
         ],
         "legendgroup": "Nobelsville",
         "lon": [
          -86.0086
         ],
         "marker": {
          "color": "#19d3f3",
          "size": [
           0
          ],
          "sizemode": "area",
          "sizeref": 0.0025
         },
         "mode": "markers",
         "name": "Nobelsville",
         "showlegend": true,
         "subplot": "mapbox",
         "type": "scattermapbox"
        },
        {
         "hovertemplate": "<b>%{hovertext}</b><br><br>City=Richmond<br>Fatalities=%{marker.size}<br>Latitude=%{lat}<br>Longitude=%{lon}<extra></extra>",
         "hovertext": [
          "Richmond"
         ],
         "lat": [
          39.8283
         ],
         "legendgroup": "Richmond",
         "lon": [
          -84.8903
         ],
         "marker": {
          "color": "#FF6692",
          "size": [
           1
          ],
          "sizemode": "area",
          "sizeref": 0.0025
         },
         "mode": "markers",
         "name": "Richmond",
         "showlegend": true,
         "subplot": "mapbox",
         "type": "scattermapbox"
        },
        {
         "hovertemplate": "<b>%{hovertext}</b><br><br>City=Clinton<br>Fatalities=%{marker.size}<br>Latitude=%{lat}<br>Longitude=%{lon}<extra></extra>",
         "hovertext": [
          "Clinton"
         ],
         "lat": [
          39.6609
         ],
         "legendgroup": "Clinton",
         "lon": [
          -87.4062
         ],
         "marker": {
          "color": "#B6E880",
          "size": [
           0
          ],
          "sizemode": "area",
          "sizeref": 0.0025
         },
         "mode": "markers",
         "name": "Clinton",
         "showlegend": true,
         "subplot": "mapbox",
         "type": "scattermapbox"
        }
       ],
       "layout": {
        "legend": {
         "itemsizing": "constant",
         "title": {
          "text": "City"
         },
         "tracegroupgap": 0
        },
        "mapbox": {
         "center": {
          "lat": 40.119391666666665,
          "lon": -86.61671666666666
         },
         "domain": {
          "x": [
           0,
           1
          ],
          "y": [
           0,
           1
          ]
         },
         "style": "carto-positron",
         "zoom": 6
        },
        "margin": {
         "b": 0,
         "l": 0,
         "r": 0,
         "t": 30
        },
        "template": {
         "data": {
          "bar": [
           {
            "error_x": {
             "color": "#2a3f5f"
            },
            "error_y": {
             "color": "#2a3f5f"
            },
            "marker": {
             "line": {
              "color": "#E5ECF6",
              "width": 0.5
             },
             "pattern": {
              "fillmode": "overlay",
              "size": 10,
              "solidity": 0.2
             }
            },
            "type": "bar"
           }
          ],
          "barpolar": [
           {
            "marker": {
             "line": {
              "color": "#E5ECF6",
              "width": 0.5
             },
             "pattern": {
              "fillmode": "overlay",
              "size": 10,
              "solidity": 0.2
             }
            },
            "type": "barpolar"
           }
          ],
          "carpet": [
           {
            "aaxis": {
             "endlinecolor": "#2a3f5f",
             "gridcolor": "white",
             "linecolor": "white",
             "minorgridcolor": "white",
             "startlinecolor": "#2a3f5f"
            },
            "baxis": {
             "endlinecolor": "#2a3f5f",
             "gridcolor": "white",
             "linecolor": "white",
             "minorgridcolor": "white",
             "startlinecolor": "#2a3f5f"
            },
            "type": "carpet"
           }
          ],
          "choropleth": [
           {
            "colorbar": {
             "outlinewidth": 0,
             "ticks": ""
            },
            "type": "choropleth"
           }
          ],
          "contour": [
           {
            "colorbar": {
             "outlinewidth": 0,
             "ticks": ""
            },
            "colorscale": [
             [
              0,
              "#0d0887"
             ],
             [
              0.1111111111111111,
              "#46039f"
             ],
             [
              0.2222222222222222,
              "#7201a8"
             ],
             [
              0.3333333333333333,
              "#9c179e"
             ],
             [
              0.4444444444444444,
              "#bd3786"
             ],
             [
              0.5555555555555556,
              "#d8576b"
             ],
             [
              0.6666666666666666,
              "#ed7953"
             ],
             [
              0.7777777777777778,
              "#fb9f3a"
             ],
             [
              0.8888888888888888,
              "#fdca26"
             ],
             [
              1,
              "#f0f921"
             ]
            ],
            "type": "contour"
           }
          ],
          "contourcarpet": [
           {
            "colorbar": {
             "outlinewidth": 0,
             "ticks": ""
            },
            "type": "contourcarpet"
           }
          ],
          "heatmap": [
           {
            "colorbar": {
             "outlinewidth": 0,
             "ticks": ""
            },
            "colorscale": [
             [
              0,
              "#0d0887"
             ],
             [
              0.1111111111111111,
              "#46039f"
             ],
             [
              0.2222222222222222,
              "#7201a8"
             ],
             [
              0.3333333333333333,
              "#9c179e"
             ],
             [
              0.4444444444444444,
              "#bd3786"
             ],
             [
              0.5555555555555556,
              "#d8576b"
             ],
             [
              0.6666666666666666,
              "#ed7953"
             ],
             [
              0.7777777777777778,
              "#fb9f3a"
             ],
             [
              0.8888888888888888,
              "#fdca26"
             ],
             [
              1,
              "#f0f921"
             ]
            ],
            "type": "heatmap"
           }
          ],
          "heatmapgl": [
           {
            "colorbar": {
             "outlinewidth": 0,
             "ticks": ""
            },
            "colorscale": [
             [
              0,
              "#0d0887"
             ],
             [
              0.1111111111111111,
              "#46039f"
             ],
             [
              0.2222222222222222,
              "#7201a8"
             ],
             [
              0.3333333333333333,
              "#9c179e"
             ],
             [
              0.4444444444444444,
              "#bd3786"
             ],
             [
              0.5555555555555556,
              "#d8576b"
             ],
             [
              0.6666666666666666,
              "#ed7953"
             ],
             [
              0.7777777777777778,
              "#fb9f3a"
             ],
             [
              0.8888888888888888,
              "#fdca26"
             ],
             [
              1,
              "#f0f921"
             ]
            ],
            "type": "heatmapgl"
           }
          ],
          "histogram": [
           {
            "marker": {
             "pattern": {
              "fillmode": "overlay",
              "size": 10,
              "solidity": 0.2
             }
            },
            "type": "histogram"
           }
          ],
          "histogram2d": [
           {
            "colorbar": {
             "outlinewidth": 0,
             "ticks": ""
            },
            "colorscale": [
             [
              0,
              "#0d0887"
             ],
             [
              0.1111111111111111,
              "#46039f"
             ],
             [
              0.2222222222222222,
              "#7201a8"
             ],
             [
              0.3333333333333333,
              "#9c179e"
             ],
             [
              0.4444444444444444,
              "#bd3786"
             ],
             [
              0.5555555555555556,
              "#d8576b"
             ],
             [
              0.6666666666666666,
              "#ed7953"
             ],
             [
              0.7777777777777778,
              "#fb9f3a"
             ],
             [
              0.8888888888888888,
              "#fdca26"
             ],
             [
              1,
              "#f0f921"
             ]
            ],
            "type": "histogram2d"
           }
          ],
          "histogram2dcontour": [
           {
            "colorbar": {
             "outlinewidth": 0,
             "ticks": ""
            },
            "colorscale": [
             [
              0,
              "#0d0887"
             ],
             [
              0.1111111111111111,
              "#46039f"
             ],
             [
              0.2222222222222222,
              "#7201a8"
             ],
             [
              0.3333333333333333,
              "#9c179e"
             ],
             [
              0.4444444444444444,
              "#bd3786"
             ],
             [
              0.5555555555555556,
              "#d8576b"
             ],
             [
              0.6666666666666666,
              "#ed7953"
             ],
             [
              0.7777777777777778,
              "#fb9f3a"
             ],
             [
              0.8888888888888888,
              "#fdca26"
             ],
             [
              1,
              "#f0f921"
             ]
            ],
            "type": "histogram2dcontour"
           }
          ],
          "mesh3d": [
           {
            "colorbar": {
             "outlinewidth": 0,
             "ticks": ""
            },
            "type": "mesh3d"
           }
          ],
          "parcoords": [
           {
            "line": {
             "colorbar": {
              "outlinewidth": 0,
              "ticks": ""
             }
            },
            "type": "parcoords"
           }
          ],
          "pie": [
           {
            "automargin": true,
            "type": "pie"
           }
          ],
          "scatter": [
           {
            "fillpattern": {
             "fillmode": "overlay",
             "size": 10,
             "solidity": 0.2
            },
            "type": "scatter"
           }
          ],
          "scatter3d": [
           {
            "line": {
             "colorbar": {
              "outlinewidth": 0,
              "ticks": ""
             }
            },
            "marker": {
             "colorbar": {
              "outlinewidth": 0,
              "ticks": ""
             }
            },
            "type": "scatter3d"
           }
          ],
          "scattercarpet": [
           {
            "marker": {
             "colorbar": {
              "outlinewidth": 0,
              "ticks": ""
             }
            },
            "type": "scattercarpet"
           }
          ],
          "scattergeo": [
           {
            "marker": {
             "colorbar": {
              "outlinewidth": 0,
              "ticks": ""
             }
            },
            "type": "scattergeo"
           }
          ],
          "scattergl": [
           {
            "marker": {
             "colorbar": {
              "outlinewidth": 0,
              "ticks": ""
             }
            },
            "type": "scattergl"
           }
          ],
          "scattermapbox": [
           {
            "marker": {
             "colorbar": {
              "outlinewidth": 0,
              "ticks": ""
             }
            },
            "type": "scattermapbox"
           }
          ],
          "scatterpolar": [
           {
            "marker": {
             "colorbar": {
              "outlinewidth": 0,
              "ticks": ""
             }
            },
            "type": "scatterpolar"
           }
          ],
          "scatterpolargl": [
           {
            "marker": {
             "colorbar": {
              "outlinewidth": 0,
              "ticks": ""
             }
            },
            "type": "scatterpolargl"
           }
          ],
          "scatterternary": [
           {
            "marker": {
             "colorbar": {
              "outlinewidth": 0,
              "ticks": ""
             }
            },
            "type": "scatterternary"
           }
          ],
          "surface": [
           {
            "colorbar": {
             "outlinewidth": 0,
             "ticks": ""
            },
            "colorscale": [
             [
              0,
              "#0d0887"
             ],
             [
              0.1111111111111111,
              "#46039f"
             ],
             [
              0.2222222222222222,
              "#7201a8"
             ],
             [
              0.3333333333333333,
              "#9c179e"
             ],
             [
              0.4444444444444444,
              "#bd3786"
             ],
             [
              0.5555555555555556,
              "#d8576b"
             ],
             [
              0.6666666666666666,
              "#ed7953"
             ],
             [
              0.7777777777777778,
              "#fb9f3a"
             ],
             [
              0.8888888888888888,
              "#fdca26"
             ],
             [
              1,
              "#f0f921"
             ]
            ],
            "type": "surface"
           }
          ],
          "table": [
           {
            "cells": {
             "fill": {
              "color": "#EBF0F8"
             },
             "line": {
              "color": "white"
             }
            },
            "header": {
             "fill": {
              "color": "#C8D4E3"
             },
             "line": {
              "color": "white"
             }
            },
            "type": "table"
           }
          ]
         },
         "layout": {
          "annotationdefaults": {
           "arrowcolor": "#2a3f5f",
           "arrowhead": 0,
           "arrowwidth": 1
          },
          "autotypenumbers": "strict",
          "coloraxis": {
           "colorbar": {
            "outlinewidth": 0,
            "ticks": ""
           }
          },
          "colorscale": {
           "diverging": [
            [
             0,
             "#8e0152"
            ],
            [
             0.1,
             "#c51b7d"
            ],
            [
             0.2,
             "#de77ae"
            ],
            [
             0.3,
             "#f1b6da"
            ],
            [
             0.4,
             "#fde0ef"
            ],
            [
             0.5,
             "#f7f7f7"
            ],
            [
             0.6,
             "#e6f5d0"
            ],
            [
             0.7,
             "#b8e186"
            ],
            [
             0.8,
             "#7fbc41"
            ],
            [
             0.9,
             "#4d9221"
            ],
            [
             1,
             "#276419"
            ]
           ],
           "sequential": [
            [
             0,
             "#0d0887"
            ],
            [
             0.1111111111111111,
             "#46039f"
            ],
            [
             0.2222222222222222,
             "#7201a8"
            ],
            [
             0.3333333333333333,
             "#9c179e"
            ],
            [
             0.4444444444444444,
             "#bd3786"
            ],
            [
             0.5555555555555556,
             "#d8576b"
            ],
            [
             0.6666666666666666,
             "#ed7953"
            ],
            [
             0.7777777777777778,
             "#fb9f3a"
            ],
            [
             0.8888888888888888,
             "#fdca26"
            ],
            [
             1,
             "#f0f921"
            ]
           ],
           "sequentialminus": [
            [
             0,
             "#0d0887"
            ],
            [
             0.1111111111111111,
             "#46039f"
            ],
            [
             0.2222222222222222,
             "#7201a8"
            ],
            [
             0.3333333333333333,
             "#9c179e"
            ],
            [
             0.4444444444444444,
             "#bd3786"
            ],
            [
             0.5555555555555556,
             "#d8576b"
            ],
            [
             0.6666666666666666,
             "#ed7953"
            ],
            [
             0.7777777777777778,
             "#fb9f3a"
            ],
            [
             0.8888888888888888,
             "#fdca26"
            ],
            [
             1,
             "#f0f921"
            ]
           ]
          },
          "colorway": [
           "#636efa",
           "#EF553B",
           "#00cc96",
           "#ab63fa",
           "#FFA15A",
           "#19d3f3",
           "#FF6692",
           "#B6E880",
           "#FF97FF",
           "#FECB52"
          ],
          "font": {
           "color": "#2a3f5f"
          },
          "geo": {
           "bgcolor": "white",
           "lakecolor": "white",
           "landcolor": "#E5ECF6",
           "showlakes": true,
           "showland": true,
           "subunitcolor": "white"
          },
          "hoverlabel": {
           "align": "left"
          },
          "hovermode": "closest",
          "mapbox": {
           "style": "light"
          },
          "paper_bgcolor": "white",
          "plot_bgcolor": "#E5ECF6",
          "polar": {
           "angularaxis": {
            "gridcolor": "white",
            "linecolor": "white",
            "ticks": ""
           },
           "bgcolor": "#E5ECF6",
           "radialaxis": {
            "gridcolor": "white",
            "linecolor": "white",
            "ticks": ""
           }
          },
          "scene": {
           "xaxis": {
            "backgroundcolor": "#E5ECF6",
            "gridcolor": "white",
            "gridwidth": 2,
            "linecolor": "white",
            "showbackground": true,
            "ticks": "",
            "zerolinecolor": "white"
           },
           "yaxis": {
            "backgroundcolor": "#E5ECF6",
            "gridcolor": "white",
            "gridwidth": 2,
            "linecolor": "white",
            "showbackground": true,
            "ticks": "",
            "zerolinecolor": "white"
           },
           "zaxis": {
            "backgroundcolor": "#E5ECF6",
            "gridcolor": "white",
            "gridwidth": 2,
            "linecolor": "white",
            "showbackground": true,
            "ticks": "",
            "zerolinecolor": "white"
           }
          },
          "shapedefaults": {
           "line": {
            "color": "#2a3f5f"
           }
          },
          "ternary": {
           "aaxis": {
            "gridcolor": "white",
            "linecolor": "white",
            "ticks": ""
           },
           "baxis": {
            "gridcolor": "white",
            "linecolor": "white",
            "ticks": ""
           },
           "bgcolor": "#E5ECF6",
           "caxis": {
            "gridcolor": "white",
            "linecolor": "white",
            "ticks": ""
           }
          },
          "title": {
           "x": 0.05
          },
          "xaxis": {
           "automargin": true,
           "gridcolor": "white",
           "linecolor": "white",
           "ticks": "",
           "title": {
            "standoff": 15
           },
           "zerolinecolor": "white",
           "zerolinewidth": 2
          },
          "yaxis": {
           "automargin": true,
           "gridcolor": "white",
           "linecolor": "white",
           "ticks": "",
           "title": {
            "standoff": 15
           },
           "zerolinecolor": "white",
           "zerolinewidth": 2
          }
         }
        },
        "title": {
         "text": "Fatalities in Indiana Cities"
        }
       }
      }
     },
     "metadata": {},
     "output_type": "display_data"
    }
   ],
   "source": [
    "import pandas as pd\n",
    "import plotly.express as px\n",
    "\n",
    "# Create a DataFrame with Indiana data\n",
    "indiana_data = pd.DataFrame({\n",
    "    'City': ['West Lafayette', 'Gary', 'Gary', 'Indianapolis', 'Martinsville', 'Martinsville', 'West Lafayette', 'Terre Haute', 'Indianapolis', 'Nobelsville', 'Richmond', 'Clinton'],\n",
    "    'Latitude': [40.4259, 41.5934, 41.5934, 39.7684, 39.4279, 39.4279, 40.4259, 39.4667, 39.7684, 40.0456, 39.8283, 39.6609],\n",
    "    'Longitude': [-86.9081, -87.3464, -87.3464, -86.1581, -86.4282, -86.4282, -86.9081, -87.4139, -86.1581, -86.0086, -84.8903, -87.4062],\n",
    "    'Fatalities': [1, 1, 1, 1, 0, 0, 1, 0, 0, 0, 1, 0]\n",
    "})\n",
    "\n",
    "# Create a scatter plot with cities as markers and fatalities as size\n",
    "fig = px.scatter_mapbox(indiana_data, lat='Latitude', lon='Longitude', hover_name='City', size='Fatalities', color='City',\n",
    "                        zoom=6, mapbox_style='carto-positron')\n",
    "\n",
    "# Set the layout for the plot\n",
    "fig.update_layout(\n",
    "    title='Fatalities in Indiana Cities',\n",
    "    margin={'r': 0, 't': 30, 'l': 0, 'b': 0}\n",
    ")\n",
    "\n",
    "# Show the plot\n",
    "fig.show()\n"
   ]
  },
  {
   "cell_type": "code",
   "execution_count": null,
   "metadata": {},
   "outputs": [],
   "source": []
  }
 ],
 "metadata": {
  "kernelspec": {
   "display_name": "base",
   "language": "python",
   "name": "python3"
  },
  "language_info": {
   "codemirror_mode": {
    "name": "ipython",
    "version": 3
   },
   "file_extension": ".py",
   "mimetype": "text/x-python",
   "name": "python",
   "nbconvert_exporter": "python",
   "pygments_lexer": "ipython3",
   "version": "3.9.13"
  },
  "orig_nbformat": 4
 },
 "nbformat": 4,
 "nbformat_minor": 2
}
